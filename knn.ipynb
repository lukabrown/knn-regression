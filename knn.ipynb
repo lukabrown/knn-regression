{
 "cells": [
  {
   "cell_type": "code",
   "execution_count": 1,
   "metadata": {},
   "outputs": [],
   "source": [
    "import pandas as pd\n",
    "import numpy as np\n",
    "import matplotlib.pyplot as plt\n",
    "from sklearn.model_selection import train_test_split\n",
    "from sklearn.neighbors import KNeighborsClassifier\n",
    "from sklearn.linear_model import LinearRegression\n",
    "from sklearn.tree import DecisionTreeRegressor\n",
    "from math import sqrt\n",
    "\n",
    "def RSS(y_test, y_pred):\n",
    "    temp = np.zeros(y_pred.size, dtype = np.float64)\n",
    "    for i in range(temp.size):\n",
    "        temp[i] = (y_test[i] - y_pred[i])*(y_test[i] - y_pred[i])\n",
    "    sum = 0.0\n",
    "    for i in range(temp.size):\n",
    "        sum += temp[i]\n",
    "    return sum\n",
    "\n",
    "def rse(y_test, y_pred):\n",
    "    rss = RSS(y_test, y_pred)\n",
    "    n = y_test.size\n",
    "    p = len(features)\n",
    "    return sqrt(rss / (n-p-1.0))\n",
    "\n",
    "def r_squared(y_test, y_pred):\n",
    "    rss = RSS(y_test, y_pred)\n",
    "    mean = np.mean(y_test)\n",
    "\n",
    "    #TSS\n",
    "    temp = np.zeros(y_test.size, dtype = np.float64)\n",
    "    for i in range(temp.size):\n",
    "        temp[i] = (y_test[i] - mean)*(y_test[i] - mean)\n",
    "\n",
    "    #TSS sum\n",
    "    sum = 0.0\n",
    "    for i in range(temp.size):\n",
    "        sum += temp[i]\n",
    "\n",
    "    return 1 - (rss/sum)\n",
    "\n",
    "def euclidean_distance(x1, x2):\n",
    "    return sqrt(np.sum((x1 - x2)**2))\n",
    "\n",
    "def get_neighbors(X_train, y_train, x_test, k):\n",
    "    euc = [0] * X_train.shape[0]\n",
    "    indexes = [0] * k\n",
    "    results = [0] * k\n",
    "\n",
    "    for i in range(X_train.shape[0]):\n",
    "        euc[i] = euclidean_distance(x_test, X_train[i])\n",
    "\n",
    "    for i in range(k):\n",
    "        indexes[i] = euc.index(min(euc))\n",
    "        euc[indexes[i]] += 100\n",
    "\n",
    "    for i in range(k):\n",
    "        results[i] = y_train[i]\n",
    "        \n",
    "    return results\n",
    "\n",
    "def predict(X_train, y_train, x_test, k):\n",
    "    ans = get_neighbors(X_train, y_train, x_test, k)\n",
    "    return sum(ans) / k\n",
    "\n",
    "def evaluate(X_train, y_train, X_test, y_test, k):\n",
    "    pred = np.zeros(X_test.shape[0], dtype = np.int64)\n",
    "    for i in range (X_test.shape[0]):\n",
    "        pred[i] = predict(X_train, y_train, X_test[i], k)\n",
    "    return pred"
   ]
  },
  {
   "cell_type": "code",
   "execution_count": 2,
   "metadata": {},
   "outputs": [],
   "source": [
    "df = pd.read_csv('./data/winequality-white.csv', delimiter = ';')\n",
    "features = ['fixed acidity', 'volatile acidity', 'citric acid', 'residual sugar',\n",
    "            'chlorides', 'free sulfur dioxide', 'total sulfur dioxide', 'density',\n",
    "            'pH', 'sulphates', 'alcohol']\n",
    "\n",
    "X = df[features].values\n",
    "Y = df['quality'].values\n",
    "X_train, X_test, y_train, y_test = train_test_split(X, Y, \n",
    "                                                    test_size=0.3,\n",
    "                                                    random_state=43,\n",
    "                                                    shuffle=True)"
   ]
  },
  {
   "cell_type": "code",
   "execution_count": 3,
   "metadata": {},
   "outputs": [
    {
     "name": "stdout",
     "output_type": "stream",
     "text": [
      "rse:  0.9034\n",
      "rsq: -0.0127\n",
      "acc:  45.37%\n"
     ]
    }
   ],
   "source": [
    "pred = evaluate(X_train, y_train, X_test, y_test, 5)\n",
    "\n",
    "print(f'rse:  {rse(y_test, pred):.4f}')\n",
    "print(f'rsq: {r_squared(y_test, pred):.4f}')\n",
    "\n",
    "num_correct_predictions = (pred == y_test).sum()\n",
    "accuracy = num_correct_predictions / y_test.shape[0]\n",
    "print(f'acc:  {accuracy*100:.2f}%')"
   ]
  }
 ],
 "metadata": {
  "kernelspec": {
   "display_name": "cs4347",
   "language": "python",
   "name": "python3"
  },
  "language_info": {
   "codemirror_mode": {
    "name": "ipython",
    "version": 3
   },
   "file_extension": ".py",
   "mimetype": "text/x-python",
   "name": "python",
   "nbconvert_exporter": "python",
   "pygments_lexer": "ipython3",
   "version": "3.8.16"
  },
  "orig_nbformat": 4
 },
 "nbformat": 4,
 "nbformat_minor": 2
}
