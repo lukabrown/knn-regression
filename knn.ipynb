{
 "cells": [
  {
   "cell_type": "code",
   "execution_count": 2,
   "metadata": {},
   "outputs": [],
   "source": [
    "import pandas as pd\n",
    "import numpy as np\n",
    "from sklearn.model_selection import train_test_split\n",
    "from math import sqrt"
   ]
  },
  {
   "cell_type": "code",
   "execution_count": 3,
   "metadata": {},
   "outputs": [],
   "source": [
    "#Statistics Functions\n",
    "\n",
    "#Residual Sum of Squares\n",
    "def RSS(y_test, y_pred):\n",
    "    return np.sum((y_test - y_pred) ** 2)\n",
    "\n",
    "#Residual Standard Error\n",
    "def rse(y_test, y_pred, numFeatures):\n",
    "    rss = RSS(y_test, y_pred)\n",
    "    n = y_test.size\n",
    "    p = numFeatures\n",
    "    return sqrt(rss / (n-p-1.0))\n",
    "\n",
    "#R-Squared\n",
    "def r_squared(y_test, y_pred):\n",
    "    rss = RSS(y_test, y_pred)\n",
    "\n",
    "    #Total Sum of Squares \n",
    "    tss = np.sum((y_test - np.mean(y_test)) ** 2)\n",
    "\n",
    "    return 1 - (rss/tss)"
   ]
  },
  {
   "cell_type": "code",
   "execution_count": 4,
   "metadata": {},
   "outputs": [],
   "source": [
    "#K-Nearest-Neighbor Regression Model\n",
    "\n",
    "#Uses Euclidean Distance metric\n",
    "def euclidean_distance(x1, x2):\n",
    "    return sqrt( np.sum((x1 - x2) ** 2) )\n",
    "\n",
    "#Finds k nearest neighbors based on distance\n",
    "def get_neighbors(X_train, y_train, x_test, k):\n",
    "    euc = [0] * X_train.shape[0]\n",
    "    for i in range(X_train.shape[0]):\n",
    "        euc[i] = euclidean_distance(x_test, X_train[i])\n",
    "\n",
    "    sorted_indexes = np.argsort(euc)\n",
    "    nearest_indexes = sorted_indexes[:k]\n",
    "\n",
    "    return np.array([y_train[i] for i in nearest_indexes])\n",
    "\n",
    "#Returns predicted value based off neighbors found\n",
    "def predict(X_train, y_train, x_test, k):\n",
    "    ans = get_neighbors(X_train, y_train, x_test, k)\n",
    "    return np.mean(ans)\n",
    "\n",
    "#builds numpy array of predictions based off input and returns\n",
    "def evaluate(X_train, y_train, X_test, k):\n",
    "    pred = np.zeros(X_test.shape[0], dtype = np.float64)\n",
    "    for i in range (X_test.shape[0]):\n",
    "        pred[i] = predict(X_train, y_train, X_test[i], k)\n",
    "    return pred"
   ]
  },
  {
   "cell_type": "code",
   "execution_count": 6,
   "metadata": {},
   "outputs": [
    {
     "name": "stdout",
     "output_type": "stream",
     "text": [
      "residual standard error: 0.8302\n",
      "r squared: 0.1449\n",
      "accuracy:  11.36%\n"
     ]
    }
   ],
   "source": [
    "#reads wine dataset\n",
    "df = pd.read_csv('./data/winequality-white.csv', delimiter = ';')\n",
    "\n",
    "#features from the white wine dataset\n",
    "features = ['fixed acidity', 'volatile acidity', 'citric acid', 'residual sugar',\n",
    "            'chlorides', 'free sulfur dioxide', 'total sulfur dioxide', 'density',\n",
    "            'pH', 'sulphates', 'alcohol']\n",
    "\n",
    "#Split training and testing data from the dataset\n",
    "X = df[features].values\n",
    "Y = df['quality'].values\n",
    "X_train, X_test, y_train, y_test = train_test_split(X, Y, \n",
    "                                                    test_size=0.3,\n",
    "                                                    random_state=43,\n",
    "                                                    shuffle=True)\n",
    "\n",
    "#fit model and predicts values, k = 5\n",
    "#aka 5 nearest neighbors used to predict\n",
    "pred = evaluate(X_train, y_train, X_test, 5)\n",
    "\n",
    "#accuracy calculations\n",
    "num_correct_predictions = (pred == y_test).sum()\n",
    "accuracy = num_correct_predictions / y_test.shape[0]\n",
    "\n",
    "#printing statistics\n",
    "print( f'residual standard error: { rse(y_test, pred, len(features)) :.4f}' )\n",
    "print( f'r squared: { r_squared(y_test, pred) :.4f}' )\n",
    "print( f'accuracy:  {accuracy * 100 :.2f}%' )"
   ]
  }
 ],
 "metadata": {
  "kernelspec": {
   "display_name": "cs4347",
   "language": "python",
   "name": "python3"
  },
  "language_info": {
   "codemirror_mode": {
    "name": "ipython",
    "version": 3
   },
   "file_extension": ".py",
   "mimetype": "text/x-python",
   "name": "python",
   "nbconvert_exporter": "python",
   "pygments_lexer": "ipython3",
   "version": "3.8.16"
  },
  "orig_nbformat": 4
 },
 "nbformat": 4,
 "nbformat_minor": 2
}
